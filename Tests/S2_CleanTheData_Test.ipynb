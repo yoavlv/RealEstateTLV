{
 "cells": [
  {
   "cell_type": "code",
   "execution_count": 50,
   "id": "2a7629db",
   "metadata": {},
   "outputs": [],
   "source": [
    "import pandas as pd\n",
    "import requests\n",
    "from unittest.mock import patch\n",
    "from tempfile import TemporaryDirectory\n",
    "\n",
    "\n",
    "from Step2_CleanTheData import split_and_save_df , drop_row_by_value ,convert_date_type\n"
   ]
  },
  {
   "cell_type": "code",
   "execution_count": 51,
   "id": "2c5fc46b",
   "metadata": {},
   "outputs": [],
   "source": [
    "def test_split_and_save_df():\n",
    "    # Create a small DataFrame for testing\n",
    "    df = pd.DataFrame({\n",
    "        'a': [1, 2, 3, 4],\n",
    "        'b': [5, 6, 7, 8]\n",
    "    })\n",
    "\n",
    "    with TemporaryDirectory() as tmp_dir:\n",
    "        # Call the function\n",
    "        split_and_save_df(df, tmp_dir)\n",
    "\n",
    "        # Check that the files were created\n",
    "        assert os.path.isfile(os.path.join(tmp_dir, 'Real_Estate_TLV_GOVMAPS_1.csv'))\n",
    "        assert os.path.isfile(os.path.join(tmp_dir, 'Real_Estate_TLV_GOVMAPS_2.csv'))\n",
    "\n",
    "        # Read the files and check their contents\n",
    "        df1 = pd.read_csv(os.path.join(tmp_dir, 'Real_Estate_TLV_GOVMAPS_1.csv'))\n",
    "        df2 = pd.read_csv(os.path.join(tmp_dir, 'Real_Estate_TLV_GOVMAPS_2.csv'))\n",
    "\n",
    "        assert df1.equals(pd.DataFrame({'a': [1, 2], 'b': [5, 6]}))\n",
    "        assert df2.equals(pd.DataFrame({'a': [3, 4], 'b': [7, 8]}))\n",
    "\n",
    "\n",
    "def test_drop_row_by_value():\n",
    "    # Create a DataFrame for testing\n",
    "    df = pd.DataFrame({\n",
    "        'a': [1, 2, 3, 4],\n",
    "        'b': ['foo', 'bar', 'baz', 'foo']\n",
    "    })\n",
    "\n",
    "    # Call the function\n",
    "    new_df = drop_row_by_value(df, 'b', 'foo')\n",
    "\n",
    "    # Check that the correct rows were dropped\n",
    "    assert new_df.equals(pd.DataFrame({'a': [2, 3], 'b': ['bar', 'baz']}))\n",
    "\n",
    "\n",
    "def test_convert_date_type():\n",
    "    df = pd.DataFrame({\n",
    "        'DEALDATESTRING': ['01/01/2022', '02/02/2022'],\n",
    "        'ASSETMETER': ['100', '200'],\n",
    "        'DEALS_DEALAMOUNT': ['500000', '1000000']\n",
    "    })\n",
    "\n",
    "    new_df = convert_date_type(df)\n",
    "\n",
    "    # Check that the date column was converted to datetime and the other columns were converted to integers\n",
    "    assert isinstance(new_df['DEALDATE'][0], datetime)\n",
    "    assert new_df['ASSETMETER'].dtype == int\n",
    "    assert new_df['DEALS_DEALAMOUNT'].dtype == int"
   ]
  },
  {
   "cell_type": "code",
   "execution_count": 49,
   "id": "c103f051",
   "metadata": {},
   "outputs": [],
   "source": [
    "test_drop_row_by_value()\n",
    "test_convert_date_type()"
   ]
  },
  {
   "cell_type": "code",
   "execution_count": null,
   "id": "f80a5e96",
   "metadata": {},
   "outputs": [],
   "source": []
  }
 ],
 "metadata": {
  "kernelspec": {
   "display_name": "Python 3",
   "language": "python",
   "name": "python3"
  },
  "language_info": {
   "codemirror_mode": {
    "name": "ipython",
    "version": 3
   },
   "file_extension": ".py",
   "mimetype": "text/x-python",
   "name": "python",
   "nbconvert_exporter": "python",
   "pygments_lexer": "ipython3",
   "version": "3.8.8"
  }
 },
 "nbformat": 4,
 "nbformat_minor": 5
}
