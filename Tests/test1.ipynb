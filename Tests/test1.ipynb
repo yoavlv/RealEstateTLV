{
 "cells": [
  {
   "cell_type": "code",
   "execution_count": 43,
   "id": "0590b3f6",
   "metadata": {},
   "outputs": [
    {
     "ename": "ModuleNotFoundError",
     "evalue": "No module named 'Step2_CleanTheData'",
     "output_type": "error",
     "traceback": [
      "\u001b[1;31m---------------------------------------------------------------------------\u001b[0m",
      "\u001b[1;31mModuleNotFoundError\u001b[0m                       Traceback (most recent call last)",
      "\u001b[1;32m<ipython-input-43-61de90eef337>\u001b[0m in \u001b[0;36m<module>\u001b[1;34m\u001b[0m\n\u001b[0;32m      6\u001b[0m \u001b[1;32mimport\u001b[0m \u001b[0msys\u001b[0m\u001b[1;33m\u001b[0m\u001b[1;33m\u001b[0m\u001b[0m\n\u001b[0;32m      7\u001b[0m \u001b[0msys\u001b[0m\u001b[1;33m.\u001b[0m\u001b[0mpath\u001b[0m\u001b[1;33m.\u001b[0m\u001b[0minsert\u001b[0m\u001b[1;33m(\u001b[0m\u001b[1;36m0\u001b[0m\u001b[1;33m,\u001b[0m \u001b[1;34m\"../Tests\"\u001b[0m\u001b[1;33m)\u001b[0m\u001b[1;33m\u001b[0m\u001b[1;33m\u001b[0m\u001b[0m\n\u001b[1;32m----> 8\u001b[1;33m \u001b[1;32mfrom\u001b[0m \u001b[0mStep2_CleanTheData\u001b[0m \u001b[1;32mimport\u001b[0m \u001b[0msplit_and_save_df\u001b[0m\u001b[1;33m\u001b[0m\u001b[1;33m\u001b[0m\u001b[0m\n\u001b[0m",
      "\u001b[1;31mModuleNotFoundError\u001b[0m: No module named 'Step2_CleanTheData'"
     ]
    }
   ],
   "source": [
    "import pandas as pd\n",
    "import requests\n",
    "from unittest.mock import patch\n",
    "from io import StringIO\n",
    "from tempfile import TemporaryDirectory\n",
    "import sys\n",
    "from RealEstateTLV.Step2_CleanTheData import split_and_save_df\n"
   ]
  },
  {
   "cell_type": "code",
   "execution_count": 38,
   "id": "996257ee",
   "metadata": {},
   "outputs": [],
   "source": [
    "def test_split_and_save_df():\n",
    "    # Create a small DataFrame for testing\n",
    "    df = pd.DataFrame({\n",
    "        'a': [1, 2, 3, 4],\n",
    "        'b': [5, 6, 7, 8]\n",
    "    })\n",
    "\n",
    "    with TemporaryDirectory() as tmp_dir:\n",
    "        # Call the function\n",
    "        split_and_save_df(df, tmp_dir)\n",
    "\n",
    "        # Check that the files were created\n",
    "        assert os.path.isfile(os.path.join(tmp_dir, 'Real_Estate_TLV_GOVMAPS_1.csv'))\n",
    "        assert os.path.isfile(os.path.join(tmp_dir, 'Real_Estate_TLV_GOVMAPS_2.csv'))\n",
    "\n",
    "        # Read the files and check their contents\n",
    "        df1 = pd.read_csv(os.path.join(tmp_dir, 'Real_Estate_TLV_GOVMAPS_1.csv'))\n",
    "        df2 = pd.read_csv(os.path.join(tmp_dir, 'Real_Estate_TLV_GOVMAPS_2.csv'))\n",
    "\n",
    "        assert df1.equals(pd.DataFrame({'a': [1, 2], 'b': [5, 6]}))\n",
    "        assert df2.equals(pd.DataFrame({'a': [3, 4], 'b': [7, 8]}))\n",
    "\n",
    "\n",
    "def test_drop_row_by_value():\n",
    "    # Create a DataFrame for testing\n",
    "    df = pd.DataFrame({\n",
    "        'a': [1, 2, 3, 4],\n",
    "        'b': ['foo', 'bar', 'baz', 'foo']\n",
    "    })\n",
    "\n",
    "    # Call the function\n",
    "    new_df = drop_row_by_value(df, 'b', 'foo')\n",
    "\n",
    "    # Check that the correct rows were dropped\n",
    "    assert new_df.equals(pd.DataFrame({'a': [2, 3], 'b': ['bar', 'baz']}))\n",
    "\n",
    "\n",
    "def test_convert_date_type():\n",
    "    # Create a DataFrame for testing\n",
    "    df = pd.DataFrame({\n",
    "        'DEALDATESTRING': ['01/01/2022', '02/02/2022'],\n",
    "        'ASSETMETER': ['100', '200'],\n",
    "        'DEALS_DEALAMOUNT': ['500000', '1000000']\n",
    "    })\n",
    "\n",
    "    # Call the function\n",
    "    new_df = convert_date_type(df)\n",
    "\n",
    "    # Check that the date column was converted to datetime and the other columns were converted to integers\n",
    "    assert isinstance(new_df['DEALDATE'][0], datetime)\n",
    "    assert new_df['ASSETMETER'].dtype == int\n",
    "    assert new_df['DEALS_DEALAMOUNT'].dtype == int"
   ]
  },
  {
   "cell_type": "code",
   "execution_count": 39,
   "id": "013d4d7e",
   "metadata": {},
   "outputs": [
    {
     "ename": "NameError",
     "evalue": "name 'split_and_save_df' is not defined",
     "output_type": "error",
     "traceback": [
      "\u001b[1;31m---------------------------------------------------------------------------\u001b[0m",
      "\u001b[1;31mNameError\u001b[0m                                 Traceback (most recent call last)",
      "\u001b[1;32m<ipython-input-39-d5c93d6fd892>\u001b[0m in \u001b[0;36m<module>\u001b[1;34m\u001b[0m\n\u001b[1;32m----> 1\u001b[1;33m \u001b[0mtest_split_and_save_df\u001b[0m\u001b[1;33m(\u001b[0m\u001b[1;33m)\u001b[0m\u001b[1;33m\u001b[0m\u001b[1;33m\u001b[0m\u001b[0m\n\u001b[0m",
      "\u001b[1;32m<ipython-input-38-71360a877ec1>\u001b[0m in \u001b[0;36mtest_split_and_save_df\u001b[1;34m()\u001b[0m\n\u001b[0;32m      8\u001b[0m     \u001b[1;32mwith\u001b[0m \u001b[0mTemporaryDirectory\u001b[0m\u001b[1;33m(\u001b[0m\u001b[1;33m)\u001b[0m \u001b[1;32mas\u001b[0m \u001b[0mtmp_dir\u001b[0m\u001b[1;33m:\u001b[0m\u001b[1;33m\u001b[0m\u001b[1;33m\u001b[0m\u001b[0m\n\u001b[0;32m      9\u001b[0m         \u001b[1;31m# Call the function\u001b[0m\u001b[1;33m\u001b[0m\u001b[1;33m\u001b[0m\u001b[1;33m\u001b[0m\u001b[0m\n\u001b[1;32m---> 10\u001b[1;33m         \u001b[0msplit_and_save_df\u001b[0m\u001b[1;33m(\u001b[0m\u001b[0mdf\u001b[0m\u001b[1;33m,\u001b[0m \u001b[0mtmp_dir\u001b[0m\u001b[1;33m)\u001b[0m\u001b[1;33m\u001b[0m\u001b[1;33m\u001b[0m\u001b[0m\n\u001b[0m\u001b[0;32m     11\u001b[0m \u001b[1;33m\u001b[0m\u001b[0m\n\u001b[0;32m     12\u001b[0m         \u001b[1;31m# Check that the files were created\u001b[0m\u001b[1;33m\u001b[0m\u001b[1;33m\u001b[0m\u001b[1;33m\u001b[0m\u001b[0m\n",
      "\u001b[1;31mNameError\u001b[0m: name 'split_and_save_df' is not defined"
     ]
    }
   ],
   "source": [
    "test_split_and_save_df()"
   ]
  },
  {
   "cell_type": "code",
   "execution_count": null,
   "id": "e5eba14f",
   "metadata": {},
   "outputs": [],
   "source": []
  }
 ],
 "metadata": {
  "kernelspec": {
   "display_name": "Python 3",
   "language": "python",
   "name": "python3"
  },
  "language_info": {
   "codemirror_mode": {
    "name": "ipython",
    "version": 3
   },
   "file_extension": ".py",
   "mimetype": "text/x-python",
   "name": "python",
   "nbconvert_exporter": "python",
   "pygments_lexer": "ipython3",
   "version": "3.8.8"
  }
 },
 "nbformat": 4,
 "nbformat_minor": 5
}
