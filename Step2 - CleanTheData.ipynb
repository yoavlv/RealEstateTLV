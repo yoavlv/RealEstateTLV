{
 "cells": [
  {
   "cell_type": "code",
   "execution_count": 20,
   "id": "c5f3e5e1",
   "metadata": {},
   "outputs": [],
   "source": [
    "import pandas as pd\n",
    "import bs4\n",
    "from bs4 import BeautifulSoup  \n",
    "import csv\n",
    "import numpy as np\n",
    "from datetime import datetime\n",
    "from datetime import timedelta\n",
    "import math\n"
   ]
  },
  {
   "cell_type": "code",
   "execution_count": 21,
   "id": "8e93531a",
   "metadata": {},
   "outputs": [],
   "source": [
    "df = pd.read_csv(\"Real_Estate_TLV_GOVMAPS.csv\",index_col=0)\n"
   ]
  },
  {
   "cell_type": "code",
   "execution_count": 22,
   "id": "fdad83d4",
   "metadata": {},
   "outputs": [
    {
     "data": {
      "text/plain": [
       "(117469, 11)"
      ]
     },
     "execution_count": 22,
     "metadata": {},
     "output_type": "execute_result"
    }
   ],
   "source": [
    "def drop_col_from_df(df, cols):\n",
    "    return df.drop(columns=cols, axis=1)\n",
    "\n",
    "cols_to_drop = [\"NEIGHBORHOODID\",\"extent\",\"WKT\",\"POLYGONID\",\"DEALDATE\",\"DEALTYPE\",\"GUSHHELKATAT\",\"PROJECTNAME\",\"STREETCODE\",\"OBJECTID\",\"CITY\",\"CITYID\"]\n",
    "\n",
    "\n",
    "\n",
    "def drop_row_by_value(df, col_name, values):\n",
    "    # Delete all the rows that contain the value in the parameter and return new dataframe\n",
    "    if isinstance(values, list):\n",
    "        df = df.drop(df[df[col_name].isin(values)].index).reset_index(drop=True)\n",
    "    else:\n",
    "        df = df.drop(df[df[col_name] == values].index).reset_index(drop=True)\n",
    "    return df\n",
    "\n",
    "values_to_drop_from_asset_type = [\"nan\",\"מיני פנטהאוז\",\"מגורים\",\"בית בודד\",\"דופלקס\",\"קוטג' חד משפחתי\",\"קוטג' דו משפחתי\",'מלונאות','חנות','קרקע למגורים','קבוצת רכישה - קרקע מגורים','None','אופציה','קבוצת רכישה - קרקע מסחרי','חניה','מסחרי + מגורים','דירת נופש','דיור מוגן','קומבינציה','מבנים חקלאיים','תעשיה','מסחרי + משרדים','בניני ציבור','חלוקה/יחוד דירות','מחסנים','אחר','בית אבות','עסק',\"קוטג' טורי\",'ניוד זכויות בניה','משרד','ללא תיכנון','מלונאות ונופש','משרדים + מגורים','מלאכה',]\n",
    "\n",
    "df = drop_col_from_df(df,cols_to_drop)\n",
    "df = drop_row_by_value(df,\"ASSETTYPE\",values_to_drop_from_asset_type)\n",
    "df = df.dropna(subset=['centroid','ASSETTYPE','NEIGHBORHOOD','DEALS_DEALAMOUNT','ASSETMETER']).reset_index(drop=True)\n"
   ]
  },
  {
   "cell_type": "code",
   "execution_count": 23,
   "id": "025d281f",
   "metadata": {},
   "outputs": [
    {
     "data": {
      "text/plain": [
       "(58797, 11)"
      ]
     },
     "execution_count": 23,
     "metadata": {},
     "output_type": "execute_result"
    }
   ],
   "source": [
    "def convert_date_type(df):\n",
    "    df.rename(columns = {'DEALDATESTRING':'DEALDATE'}, inplace = True)\n",
    "    df['DEALDATE'] = pd.to_datetime(df['DEALDATE'], format='%d/%m/%Y')\n",
    "    df['ASSETMETER'] = df['ASSETMETER'].astype(int)\n",
    "    df['DEALS_DEALAMOUNT'] = df['DEALS_DEALAMOUNT'].astype(int)\n",
    "    return df\n",
    "\n",
    "def drop_rows_by_value_size(df):\n",
    "    #delete all the rows that contain the value in the parameter and return new dataframe\n",
    "    return df[(df[\"ASSETMETER\"] >= 30) & (df[\"ASSETMETER\"] <= 350)].reset_index(drop=True)\n",
    "\n",
    "def drop_rows_by_price(df):\n",
    "    #delete all the rows that contain the value in the parameter and return new dataframe\n",
    "    return df[(df[\"DEALS_DEALAMOUNT\"] >= 600000) & (df[\"DEALS_DEALAMOUNT\"] <= 20000000)].reset_index(drop=True)\n",
    "\n",
    "def drop_rows_year_less_than_2020(df):\n",
    "    start_date = '01/01/2003'\n",
    "    end_date = '01/01/2023'\n",
    "    return df[(df[\"DEALDATE\"] > start_date) & (df[\"DEALDATE\"] < end_date)].reset_index(drop=True)\n",
    "\n",
    "def drop_duplicates_rows(df):\n",
    "    return df.drop_duplicates().reset_index(drop=True)\n",
    " \n",
    "df = convert_date_type(df)\n",
    "df = drop_rows_by_value_size(df)\n",
    "df = drop_rows_year_less_than_2020(df)\n",
    "df = drop_duplicates_rows(df)\n"
   ]
  },
  {
   "cell_type": "code",
   "execution_count": 24,
   "id": "2203abe1",
   "metadata": {},
   "outputs": [],
   "source": [
    "floors = {-1:'מרתף', \n",
    "     0:'קרקע', \n",
    "     1:'ראשונה', \n",
    "     2:'שניה', \n",
    "     3:'שלישית', \n",
    "     4:'רביעית', \n",
    "     5:'חמישית', \n",
    "     6:'שישית', \n",
    "     7:'שביעית', \n",
    "     8:'שמינית', \n",
    "     9:'תשיעית', \n",
    "     10:'עשירית', \n",
    "     11:'אחת עשרה', \n",
    "     12:'שתים עשרה', \n",
    "     13:'שלוש עשרה', \n",
    "     14:'ארבע עשרה', \n",
    "     15:'חמש עשרה', \n",
    "     16:'שש עשרה', \n",
    "     17:'שבע עשרה',  \n",
    "     18:'שמונה עשרה', \n",
    "     19:'תשע עשרה', \n",
    "     20:'עשרים', \n",
    "     21:'עשרים ואחת', \n",
    "     22:'עשרים ושתיים', \n",
    "     23:'עשרים ושלוש', \n",
    "     24:'עשרים וארבע', \n",
    "     25:'עשרים וחמש', \n",
    "     26:'עשרים ושש', \n",
    "     27:'עשרים ושבע', \n",
    "     28:'עשרים ושמונה', \n",
    "     29:'עשרים ותשע',\n",
    "     30:'שלושיים',\n",
    "     31:'שלושיים ואחת',\n",
    "     32:'שלושיים ושתיים',\n",
    "     33:'שלושים ושלוש',\n",
    "     34:'שלושים וארבע',\n",
    "     35:'שלושים וחמש',\n",
    "     36:'שלושים ושש',\n",
    "     37:'שלושים ושבע',\n",
    "     38:'שלושים ושמונה',\n",
    "     39:'שלושים ותשע',\n",
    "     40:'ארבעים',\n",
    "    }\n",
    "\n",
    "\n",
    "def reverse_dict(dictionary):\n",
    "    new_dict = dict()\n",
    "    for key, value in dictionary.items():\n",
    "        new_dict[value] = key\n",
    "    return new_dict\n",
    "\n",
    "floor = reverse_dict(floors)\n"
   ]
  },
  {
   "cell_type": "code",
   "execution_count": 25,
   "id": "31456086",
   "metadata": {},
   "outputs": [
    {
     "data": {
      "text/plain": [
       "(50698, 11)"
      ]
     },
     "execution_count": 25,
     "metadata": {},
     "output_type": "execute_result"
    }
   ],
   "source": [
    "def drop_by_floor(df, floor_dict, floor_col):\n",
    "    for floor, num in floor_dict.items():\n",
    "        df.loc[df[floor_col] == floor, floor_col] = num\n",
    "    df = df[df[floor_col].isin(list(floor_dict.values()))].reset_index(drop=True)\n",
    "    df[floor_col] = df[floor_col].astype(int)\n",
    "    return df\n",
    "            \n",
    "\n",
    "df = drop_by_floor(df ,floor,'FLOOR')\n"
   ]
  },
  {
   "cell_type": "code",
   "execution_count": 26,
   "id": "bde410ea",
   "metadata": {},
   "outputs": [],
   "source": [
    "df.to_csv('Real_Estate_TLV_Step_2.csv') \n"
   ]
  },
  {
   "cell_type": "code",
   "execution_count": null,
   "id": "1fb559fb",
   "metadata": {},
   "outputs": [],
   "source": []
  }
 ],
 "metadata": {
  "kernelspec": {
   "display_name": "Python 3",
   "language": "python",
   "name": "python3"
  },
  "language_info": {
   "codemirror_mode": {
    "name": "ipython",
    "version": 3
   },
   "file_extension": ".py",
   "mimetype": "text/x-python",
   "name": "python",
   "nbconvert_exporter": "python",
   "pygments_lexer": "ipython3",
   "version": "3.8.8"
  }
 },
 "nbformat": 4,
 "nbformat_minor": 5
}
