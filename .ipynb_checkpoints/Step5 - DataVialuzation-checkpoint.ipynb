{
 "cells": [
  {
   "cell_type": "code",
   "execution_count": 1,
   "id": "e451d978",
   "metadata": {},
   "outputs": [],
   "source": [
    "import pandas as pd\n",
    "import requests\n",
    "import bs4\n",
    "from bs4 import BeautifulSoup  \n",
    "import json\n",
    "import csv\n",
    "import numpy as np\n",
    "import matplotlib.pyplot as plt      \n",
    "import math\n",
    "import matplotlib.pyplot as plt\n",
    "import geopandas\n",
    "from shapely.geometry import Point"
   ]
  },
  {
   "cell_type": "code",
   "execution_count": 2,
   "id": "b214a378",
   "metadata": {},
   "outputs": [
    {
     "ename": "FileNotFoundError",
     "evalue": "[Errno 2] No such file or directory: 'Data/Real_Estate_TLV_Full_DATA.csv'",
     "output_type": "error",
     "traceback": [
      "\u001b[1;31m---------------------------------------------------------------------------\u001b[0m",
      "\u001b[1;31mFileNotFoundError\u001b[0m                         Traceback (most recent call last)",
      "\u001b[1;32m<ipython-input-2-af99ee57eb73>\u001b[0m in \u001b[0;36m<module>\u001b[1;34m\u001b[0m\n\u001b[1;32m----> 1\u001b[1;33m \u001b[0mdf\u001b[0m \u001b[1;33m=\u001b[0m \u001b[0mpd\u001b[0m\u001b[1;33m.\u001b[0m\u001b[0mread_csv\u001b[0m\u001b[1;33m(\u001b[0m\u001b[1;34m\"Data/Real_Estate_TLV_Full_DATA.csv\"\u001b[0m\u001b[1;33m,\u001b[0m\u001b[0mindex_col\u001b[0m\u001b[1;33m=\u001b[0m\u001b[1;36m0\u001b[0m\u001b[1;33m)\u001b[0m\u001b[1;33m\u001b[0m\u001b[1;33m\u001b[0m\u001b[0m\n\u001b[0m\u001b[0;32m      2\u001b[0m \u001b[0myad2_df\u001b[0m \u001b[1;33m=\u001b[0m \u001b[0mpd\u001b[0m\u001b[1;33m.\u001b[0m\u001b[0mread_csv\u001b[0m\u001b[1;33m(\u001b[0m\u001b[1;34m\"Data/Real_Estate_TLV_YAD2_Numeric.csv\"\u001b[0m\u001b[1;33m,\u001b[0m\u001b[0mindex_col\u001b[0m\u001b[1;33m=\u001b[0m\u001b[1;36m0\u001b[0m\u001b[1;33m)\u001b[0m\u001b[1;33m\u001b[0m\u001b[1;33m\u001b[0m\u001b[0m\n",
      "\u001b[1;32m~\\anaconda3\\lib\\site-packages\\pandas\\io\\parsers.py\u001b[0m in \u001b[0;36mread_csv\u001b[1;34m(filepath_or_buffer, sep, delimiter, header, names, index_col, usecols, squeeze, prefix, mangle_dupe_cols, dtype, engine, converters, true_values, false_values, skipinitialspace, skiprows, skipfooter, nrows, na_values, keep_default_na, na_filter, verbose, skip_blank_lines, parse_dates, infer_datetime_format, keep_date_col, date_parser, dayfirst, cache_dates, iterator, chunksize, compression, thousands, decimal, lineterminator, quotechar, quoting, doublequote, escapechar, comment, encoding, dialect, error_bad_lines, warn_bad_lines, delim_whitespace, low_memory, memory_map, float_precision, storage_options)\u001b[0m\n\u001b[0;32m    608\u001b[0m     \u001b[0mkwds\u001b[0m\u001b[1;33m.\u001b[0m\u001b[0mupdate\u001b[0m\u001b[1;33m(\u001b[0m\u001b[0mkwds_defaults\u001b[0m\u001b[1;33m)\u001b[0m\u001b[1;33m\u001b[0m\u001b[1;33m\u001b[0m\u001b[0m\n\u001b[0;32m    609\u001b[0m \u001b[1;33m\u001b[0m\u001b[0m\n\u001b[1;32m--> 610\u001b[1;33m     \u001b[1;32mreturn\u001b[0m \u001b[0m_read\u001b[0m\u001b[1;33m(\u001b[0m\u001b[0mfilepath_or_buffer\u001b[0m\u001b[1;33m,\u001b[0m \u001b[0mkwds\u001b[0m\u001b[1;33m)\u001b[0m\u001b[1;33m\u001b[0m\u001b[1;33m\u001b[0m\u001b[0m\n\u001b[0m\u001b[0;32m    611\u001b[0m \u001b[1;33m\u001b[0m\u001b[0m\n\u001b[0;32m    612\u001b[0m \u001b[1;33m\u001b[0m\u001b[0m\n",
      "\u001b[1;32m~\\anaconda3\\lib\\site-packages\\pandas\\io\\parsers.py\u001b[0m in \u001b[0;36m_read\u001b[1;34m(filepath_or_buffer, kwds)\u001b[0m\n\u001b[0;32m    460\u001b[0m \u001b[1;33m\u001b[0m\u001b[0m\n\u001b[0;32m    461\u001b[0m     \u001b[1;31m# Create the parser.\u001b[0m\u001b[1;33m\u001b[0m\u001b[1;33m\u001b[0m\u001b[1;33m\u001b[0m\u001b[0m\n\u001b[1;32m--> 462\u001b[1;33m     \u001b[0mparser\u001b[0m \u001b[1;33m=\u001b[0m \u001b[0mTextFileReader\u001b[0m\u001b[1;33m(\u001b[0m\u001b[0mfilepath_or_buffer\u001b[0m\u001b[1;33m,\u001b[0m \u001b[1;33m**\u001b[0m\u001b[0mkwds\u001b[0m\u001b[1;33m)\u001b[0m\u001b[1;33m\u001b[0m\u001b[1;33m\u001b[0m\u001b[0m\n\u001b[0m\u001b[0;32m    463\u001b[0m \u001b[1;33m\u001b[0m\u001b[0m\n\u001b[0;32m    464\u001b[0m     \u001b[1;32mif\u001b[0m \u001b[0mchunksize\u001b[0m \u001b[1;32mor\u001b[0m \u001b[0miterator\u001b[0m\u001b[1;33m:\u001b[0m\u001b[1;33m\u001b[0m\u001b[1;33m\u001b[0m\u001b[0m\n",
      "\u001b[1;32m~\\anaconda3\\lib\\site-packages\\pandas\\io\\parsers.py\u001b[0m in \u001b[0;36m__init__\u001b[1;34m(self, f, engine, **kwds)\u001b[0m\n\u001b[0;32m    817\u001b[0m             \u001b[0mself\u001b[0m\u001b[1;33m.\u001b[0m\u001b[0moptions\u001b[0m\u001b[1;33m[\u001b[0m\u001b[1;34m\"has_index_names\"\u001b[0m\u001b[1;33m]\u001b[0m \u001b[1;33m=\u001b[0m \u001b[0mkwds\u001b[0m\u001b[1;33m[\u001b[0m\u001b[1;34m\"has_index_names\"\u001b[0m\u001b[1;33m]\u001b[0m\u001b[1;33m\u001b[0m\u001b[1;33m\u001b[0m\u001b[0m\n\u001b[0;32m    818\u001b[0m \u001b[1;33m\u001b[0m\u001b[0m\n\u001b[1;32m--> 819\u001b[1;33m         \u001b[0mself\u001b[0m\u001b[1;33m.\u001b[0m\u001b[0m_engine\u001b[0m \u001b[1;33m=\u001b[0m \u001b[0mself\u001b[0m\u001b[1;33m.\u001b[0m\u001b[0m_make_engine\u001b[0m\u001b[1;33m(\u001b[0m\u001b[0mself\u001b[0m\u001b[1;33m.\u001b[0m\u001b[0mengine\u001b[0m\u001b[1;33m)\u001b[0m\u001b[1;33m\u001b[0m\u001b[1;33m\u001b[0m\u001b[0m\n\u001b[0m\u001b[0;32m    820\u001b[0m \u001b[1;33m\u001b[0m\u001b[0m\n\u001b[0;32m    821\u001b[0m     \u001b[1;32mdef\u001b[0m \u001b[0mclose\u001b[0m\u001b[1;33m(\u001b[0m\u001b[0mself\u001b[0m\u001b[1;33m)\u001b[0m\u001b[1;33m:\u001b[0m\u001b[1;33m\u001b[0m\u001b[1;33m\u001b[0m\u001b[0m\n",
      "\u001b[1;32m~\\anaconda3\\lib\\site-packages\\pandas\\io\\parsers.py\u001b[0m in \u001b[0;36m_make_engine\u001b[1;34m(self, engine)\u001b[0m\n\u001b[0;32m   1048\u001b[0m             )\n\u001b[0;32m   1049\u001b[0m         \u001b[1;31m# error: Too many arguments for \"ParserBase\"\u001b[0m\u001b[1;33m\u001b[0m\u001b[1;33m\u001b[0m\u001b[1;33m\u001b[0m\u001b[0m\n\u001b[1;32m-> 1050\u001b[1;33m         \u001b[1;32mreturn\u001b[0m \u001b[0mmapping\u001b[0m\u001b[1;33m[\u001b[0m\u001b[0mengine\u001b[0m\u001b[1;33m]\u001b[0m\u001b[1;33m(\u001b[0m\u001b[0mself\u001b[0m\u001b[1;33m.\u001b[0m\u001b[0mf\u001b[0m\u001b[1;33m,\u001b[0m \u001b[1;33m**\u001b[0m\u001b[0mself\u001b[0m\u001b[1;33m.\u001b[0m\u001b[0moptions\u001b[0m\u001b[1;33m)\u001b[0m  \u001b[1;31m# type: ignore[call-arg]\u001b[0m\u001b[1;33m\u001b[0m\u001b[1;33m\u001b[0m\u001b[0m\n\u001b[0m\u001b[0;32m   1051\u001b[0m \u001b[1;33m\u001b[0m\u001b[0m\n\u001b[0;32m   1052\u001b[0m     \u001b[1;32mdef\u001b[0m \u001b[0m_failover_to_python\u001b[0m\u001b[1;33m(\u001b[0m\u001b[0mself\u001b[0m\u001b[1;33m)\u001b[0m\u001b[1;33m:\u001b[0m\u001b[1;33m\u001b[0m\u001b[1;33m\u001b[0m\u001b[0m\n",
      "\u001b[1;32m~\\anaconda3\\lib\\site-packages\\pandas\\io\\parsers.py\u001b[0m in \u001b[0;36m__init__\u001b[1;34m(self, src, **kwds)\u001b[0m\n\u001b[0;32m   1865\u001b[0m \u001b[1;33m\u001b[0m\u001b[0m\n\u001b[0;32m   1866\u001b[0m         \u001b[1;31m# open handles\u001b[0m\u001b[1;33m\u001b[0m\u001b[1;33m\u001b[0m\u001b[1;33m\u001b[0m\u001b[0m\n\u001b[1;32m-> 1867\u001b[1;33m         \u001b[0mself\u001b[0m\u001b[1;33m.\u001b[0m\u001b[0m_open_handles\u001b[0m\u001b[1;33m(\u001b[0m\u001b[0msrc\u001b[0m\u001b[1;33m,\u001b[0m \u001b[0mkwds\u001b[0m\u001b[1;33m)\u001b[0m\u001b[1;33m\u001b[0m\u001b[1;33m\u001b[0m\u001b[0m\n\u001b[0m\u001b[0;32m   1868\u001b[0m         \u001b[1;32massert\u001b[0m \u001b[0mself\u001b[0m\u001b[1;33m.\u001b[0m\u001b[0mhandles\u001b[0m \u001b[1;32mis\u001b[0m \u001b[1;32mnot\u001b[0m \u001b[1;32mNone\u001b[0m\u001b[1;33m\u001b[0m\u001b[1;33m\u001b[0m\u001b[0m\n\u001b[0;32m   1869\u001b[0m         \u001b[1;32mfor\u001b[0m \u001b[0mkey\u001b[0m \u001b[1;32min\u001b[0m \u001b[1;33m(\u001b[0m\u001b[1;34m\"storage_options\"\u001b[0m\u001b[1;33m,\u001b[0m \u001b[1;34m\"encoding\"\u001b[0m\u001b[1;33m,\u001b[0m \u001b[1;34m\"memory_map\"\u001b[0m\u001b[1;33m,\u001b[0m \u001b[1;34m\"compression\"\u001b[0m\u001b[1;33m)\u001b[0m\u001b[1;33m:\u001b[0m\u001b[1;33m\u001b[0m\u001b[1;33m\u001b[0m\u001b[0m\n",
      "\u001b[1;32m~\\anaconda3\\lib\\site-packages\\pandas\\io\\parsers.py\u001b[0m in \u001b[0;36m_open_handles\u001b[1;34m(self, src, kwds)\u001b[0m\n\u001b[0;32m   1360\u001b[0m         \u001b[0mLet\u001b[0m \u001b[0mthe\u001b[0m \u001b[0mreaders\u001b[0m \u001b[0mopen\u001b[0m \u001b[0mIOHanldes\u001b[0m \u001b[0mafter\u001b[0m \u001b[0mthey\u001b[0m \u001b[0mare\u001b[0m \u001b[0mdone\u001b[0m \u001b[1;32mwith\u001b[0m \u001b[0mtheir\u001b[0m \u001b[0mpotential\u001b[0m \u001b[0mraises\u001b[0m\u001b[1;33m.\u001b[0m\u001b[1;33m\u001b[0m\u001b[1;33m\u001b[0m\u001b[0m\n\u001b[0;32m   1361\u001b[0m         \"\"\"\n\u001b[1;32m-> 1362\u001b[1;33m         self.handles = get_handle(\n\u001b[0m\u001b[0;32m   1363\u001b[0m             \u001b[0msrc\u001b[0m\u001b[1;33m,\u001b[0m\u001b[1;33m\u001b[0m\u001b[1;33m\u001b[0m\u001b[0m\n\u001b[0;32m   1364\u001b[0m             \u001b[1;34m\"r\"\u001b[0m\u001b[1;33m,\u001b[0m\u001b[1;33m\u001b[0m\u001b[1;33m\u001b[0m\u001b[0m\n",
      "\u001b[1;32m~\\anaconda3\\lib\\site-packages\\pandas\\io\\common.py\u001b[0m in \u001b[0;36mget_handle\u001b[1;34m(path_or_buf, mode, encoding, compression, memory_map, is_text, errors, storage_options)\u001b[0m\n\u001b[0;32m    640\u001b[0m                 \u001b[0merrors\u001b[0m \u001b[1;33m=\u001b[0m \u001b[1;34m\"replace\"\u001b[0m\u001b[1;33m\u001b[0m\u001b[1;33m\u001b[0m\u001b[0m\n\u001b[0;32m    641\u001b[0m             \u001b[1;31m# Encoding\u001b[0m\u001b[1;33m\u001b[0m\u001b[1;33m\u001b[0m\u001b[1;33m\u001b[0m\u001b[0m\n\u001b[1;32m--> 642\u001b[1;33m             handle = open(\n\u001b[0m\u001b[0;32m    643\u001b[0m                 \u001b[0mhandle\u001b[0m\u001b[1;33m,\u001b[0m\u001b[1;33m\u001b[0m\u001b[1;33m\u001b[0m\u001b[0m\n\u001b[0;32m    644\u001b[0m                 \u001b[0mioargs\u001b[0m\u001b[1;33m.\u001b[0m\u001b[0mmode\u001b[0m\u001b[1;33m,\u001b[0m\u001b[1;33m\u001b[0m\u001b[1;33m\u001b[0m\u001b[0m\n",
      "\u001b[1;31mFileNotFoundError\u001b[0m: [Errno 2] No such file or directory: 'Data/Real_Estate_TLV_Full_DATA.csv'"
     ]
    }
   ],
   "source": [
    "df = pd.read_csv(\"Data/Real_Estate_TLV_Full_DATA.csv\",index_col=0)\n",
    "yad2_df = pd.read_csv(\"Data/Real_Estate_TLV_YAD2_Numeric.csv\",index_col=0)"
   ]
  },
  {
   "cell_type": "code",
   "execution_count": null,
   "id": "ed55ff0f",
   "metadata": {},
   "outputs": [],
   "source": [
    "def remove_small_amount_deals_n(df):\n",
    "    to_remove = []\n",
    "    neighborhoods = df['NEIGHBORHOOD'].value_counts()\n",
    "    for val in range(len(neighborhoods.values)):\n",
    "        if neighborhoods[val] < 500:\n",
    "            to_remove.append(neighborhoods.index[val])\n",
    "\n",
    "    return df.drop(df[df['NEIGHBORHOOD'].isin(to_remove)].index).reset_index(drop=True)\n",
    "\n",
    "def line_plot_neighborhoods(df):    \n",
    "    df = remove_small_amount_deals_n(df)\n",
    "    neighborhoods = df['NEIGHBORHOOD'].unique()\n",
    "    neighborhoods_change_price = {}\n",
    "    for neighborhood in neighborhoods:\n",
    "    #get data for the neighborhood\n",
    "        df_neighborhood = df[df['NEIGHBORHOOD'] == neighborhood]\n",
    "        avg_price_meter_data = df_neighborhood.groupby(['DATE']).mean()['PRICE_PER_METER']\n",
    "        neighborhoods_change_price[neighborhood] = avg_price_meter_data\n",
    "        \n",
    "    plt.figure(figsize=(20,10))    \n",
    "    plt.title('Average Price Per Meter by Year for All Neighborhoods', color = 'b', fontsize = 15)\n",
    "    plt.xlabel('year', color = 'g', fontsize = 15)\n",
    "    plt.ylabel('Average Price Per Meter', color = 'g', fontsize = 15)\n",
    "    for key, values in neighborhoods_change_price.items():\n",
    "        plt.plot(values.index, values, label=key[::-1])\n",
    "        \n",
    "    plt.legend()\n",
    "    plt.show()\n",
    "\n",
    "\n",
    "line_plot_neighborhoods(df)\n"
   ]
  },
  {
   "cell_type": "code",
   "execution_count": null,
   "id": "35bd2b00",
   "metadata": {},
   "outputs": [],
   "source": [
    "def plot_price_change(df):\n",
    "    df_grouped = df.groupby(['DATE']).mean()\n",
    "    plt.figure(figsize=(15,5))  \n",
    "    plt.title('PPM change - all the city', color = 'b', fontsize = 15)\n",
    "\n",
    "    plt.plot(df_grouped.index, df_grouped['PRICE_PER_METER'], '-D')\n",
    "    plt.xlabel('Year')\n",
    "    plt.ylabel('Average Price per Meter (NIS ₪)')\n",
    "    plt.xticks(df_grouped.index)\n",
    "    \n",
    "    # Calculate the percentage change\n",
    "    price_change = (df_grouped['PRICE_PER_METER'].diff() / df_grouped['PRICE_PER_METER'].shift(1)) * 100\n",
    "    price_change.dropna(inplace=True)\n",
    "    # Add the change as text annotations\n",
    "    for i, change in enumerate(price_change):\n",
    "        x = price_change.index[i]\n",
    "        y = df_grouped.loc[x, 'PRICE_PER_METER']\n",
    "        plt.annotate(\"{:.1f}%\".format(change), (x, y), textcoords=\"offset points\", xytext=(-5,5), ha='center', fontsize=9)\n",
    "    \n",
    "    \n",
    "    plt.show()\n",
    "    \n",
    "plot_price_change(df)"
   ]
  },
  {
   "cell_type": "code",
   "execution_count": null,
   "id": "64d06596",
   "metadata": {},
   "outputs": [],
   "source": [
    "\n",
    "def plot_avg_seller_ppm(df1, df2):\n",
    "    # Calculate the average seller PPM(price per meter) for each year in df1 (deal hisory)\n",
    "    avg_seller_ppm = df1.groupby('DATE')['PRICE_PER_METER'].mean()\n",
    "    \n",
    "    df2['PRICE_PER_METER'] = (df2['price']/df2['buildingMR']).round(1)\n",
    "    yad2_ppm = df2['PRICE_PER_METER'].mean()\n",
    "\n",
    "    combined_df = pd.concat([avg_seller_ppm, pd.Series([yad2_ppm], index=[2023])])\n",
    "    \n",
    "    # Calculate the change in average seller PPM between each year \n",
    "    price_change = (combined_df.diff() / combined_df.shift(1)) * 100\n",
    "\n",
    "    \n",
    "    fig, ax = plt.subplots()\n",
    "    plt.title('PPM change - with available deals (2023-red)', color = 'b', fontsize = 15)\n",
    "\n",
    "    bars = ax.bar(combined_df.index, combined_df.values)\n",
    "    \n",
    "    ax.set_xlabel('Year', fontsize = 12)\n",
    "    ax.set_ylabel('Average Seller PPM (NIS ₪)')\n",
    "    plt.figure(figsize=(15,5)) \n",
    "\n",
    "    # Add labels above each bar showing the change between each year \n",
    "    for i, patch in enumerate(bars):\n",
    "        if i == len(bars) - 1:\n",
    "            # Set the color of the last bar to red\n",
    "            patch.set_color('red')\n",
    "        ax.text(patch.get_x() + patch.get_width() / 2, patch.get_height() + 0.5,\n",
    "                '{:.1f}%'.format(price_change.iloc[i]), ha='center', va='bottom')\n",
    "    \n",
    "    \n",
    "    \n",
    "    fig.set_size_inches(10, 5)\n",
    "    plt.show()\n",
    "    \n",
    "\n",
    "plot_avg_seller_ppm(df,yad2_df)\n"
   ]
  },
  {
   "cell_type": "code",
   "execution_count": null,
   "id": "5844d429",
   "metadata": {},
   "outputs": [],
   "source": [
    "def func(pct, allvals):\n",
    "    absolute = int(np.round(pct/100.*np.sum(allvals)))\n",
    "    return \"{:.1f}%\\n({:d})\".format(pct, absolute)\n",
    "\n",
    "\n",
    "\n",
    "def dealdate_plot(df):\n",
    "    years_counts=df['DATE'].value_counts()\n",
    "    years_count_sort = years_counts # .sort_values(ascending=True)\n",
    "    years_count_sort.plot.pie(figsize=(12, 12),autopct=lambda pct: func(pct, years_count_sort) ,labels=years_counts.index,)\n",
    "    plt.title('Deal Dates Frequency')\n",
    "    plt.show()\n",
    "    \n",
    "dealdate_plot(df)"
   ]
  },
  {
   "cell_type": "code",
   "execution_count": 3,
   "id": "b3bd50b0",
   "metadata": {},
   "outputs": [],
   "source": [
    "def LinearRegression_TLV(df):\n",
    "    avg = df.groupby(['DATE']).mean()['PRICE_PER_METER']\n",
    "    x = np.array(avg.index).reshape(-1,1)\n",
    "    y = np.array(avg.values).reshape(-1,1)\n",
    "    linreg = LinearRegression().fit(x,y)\n",
    "    plt.figure(figsize=(15,5))\n",
    "\n",
    "    plt.scatter(x,y , label = 'Actual Price')\n",
    "    ax = plt.gca()\n",
    "\n",
    "    plt.title('Least Squares', color = 'b', fontsize = 15)\n",
    "    ax.set_xlabel('Year', color = 'g', fontsize = 15)\n",
    "    ax.set_ylabel('Price Per Meter', color = 'g', fontsize = 15)\n",
    "    plt.plot(x,linreg.intercept_+linreg.coef_*x, color='r', label = 'Predicted Price')\n",
    "    plt.legend()\n",
    "    plt.show()\n",
    "# LinearRegression_TLV(df)\n"
   ]
  },
  {
   "cell_type": "code",
   "execution_count": 4,
   "id": "c2424e46",
   "metadata": {},
   "outputs": [
    {
     "ename": "NameError",
     "evalue": "name 'df' is not defined",
     "output_type": "error",
     "traceback": [
      "\u001b[1;31m---------------------------------------------------------------------------\u001b[0m",
      "\u001b[1;31mNameError\u001b[0m                                 Traceback (most recent call last)",
      "\u001b[1;32m<ipython-input-4-a647e77c8c0c>\u001b[0m in \u001b[0;36m<module>\u001b[1;34m\u001b[0m\n\u001b[0;32m     21\u001b[0m \u001b[1;33m\u001b[0m\u001b[0m\n\u001b[0;32m     22\u001b[0m \u001b[0mn\u001b[0m \u001b[1;33m=\u001b[0m \u001b[1;34m'נווה שרת'\u001b[0m\u001b[1;33m\u001b[0m\u001b[1;33m\u001b[0m\u001b[0m\n\u001b[1;32m---> 23\u001b[1;33m \u001b[0mPrice_Increases_Neighborhood\u001b[0m\u001b[1;33m(\u001b[0m\u001b[0mdf\u001b[0m\u001b[1;33m,\u001b[0m\u001b[0mn\u001b[0m\u001b[1;33m)\u001b[0m\u001b[1;33m\u001b[0m\u001b[1;33m\u001b[0m\u001b[0m\n\u001b[0m",
      "\u001b[1;31mNameError\u001b[0m: name 'df' is not defined"
     ]
    }
   ],
   "source": [
    "def Price_Increases_Neighborhood(df, neighborhood):\n",
    "  # Isolate the relevant neighborhood\n",
    "  # Calculate the price per meter for each year (2000- until today)\n",
    "    years = range(2000, 2022)\n",
    "    price_per_meter_by_year = {}\n",
    "    for year in years:\n",
    "        year_data = df[(df[\"NEIGHBORHOOD\"] == neighborhood) & (df['DATE'] == year)]\n",
    "        if year_data.shape[0] > 10:\n",
    "            average_price_per_meter = year_data['DEALAMOUNT'].sum() / year_data['ASSETMETER'].sum()\n",
    "            price_per_meter_by_year[year] = round(average_price_per_meter)\n",
    "            \n",
    "    plt.figure(figsize=(14,5))\n",
    "    bars = tuple(price_per_meter_by_year.keys())\n",
    "    x_pos = np.arange(len(bars))\n",
    "    plt.bar(x_pos, price_per_meter_by_year.values(),color = 'g', width = 0.5)\n",
    "    plt.xticks(x_pos, bars, rotation=90 ,color = 'r')        \n",
    "    plt.title(f\"Price per meter by year in {neighborhood[::-1]} - Tel Aviv\" , fontsize= 15)\n",
    "    plt.xlabel(\"Year\" , color = 'r', fontsize = 9)\n",
    "    plt.ylabel(\"Price per meter\")\n",
    "    plt.show()\n",
    "\n",
    "n = 'נווה שרת'\n",
    "Price_Increases_Neighborhood(df,n)"
   ]
  },
  {
   "cell_type": "code",
   "execution_count": 5,
   "id": "e2736cd2",
   "metadata": {},
   "outputs": [
    {
     "ename": "NameError",
     "evalue": "name 'df' is not defined",
     "output_type": "error",
     "traceback": [
      "\u001b[1;31m---------------------------------------------------------------------------\u001b[0m",
      "\u001b[1;31mNameError\u001b[0m                                 Traceback (most recent call last)",
      "\u001b[1;32m<ipython-input-5-5dbf03f9ca86>\u001b[0m in \u001b[0;36m<module>\u001b[1;34m\u001b[0m\n\u001b[0;32m     11\u001b[0m     \u001b[1;32mreturn\u001b[0m \u001b[0mprice_per_meter_by_year\u001b[0m\u001b[1;33m\u001b[0m\u001b[1;33m\u001b[0m\u001b[0m\n\u001b[0;32m     12\u001b[0m \u001b[1;33m\u001b[0m\u001b[0m\n\u001b[1;32m---> 13\u001b[1;33m \u001b[0mt\u001b[0m \u001b[1;33m=\u001b[0m \u001b[0mpredict_price_in_2030\u001b[0m\u001b[1;33m(\u001b[0m\u001b[0mdf\u001b[0m\u001b[1;33m,\u001b[0m\u001b[0mn\u001b[0m\u001b[1;33m,\u001b[0m\u001b[1;36m45\u001b[0m\u001b[1;33m)\u001b[0m\u001b[1;33m\u001b[0m\u001b[1;33m\u001b[0m\u001b[0m\n\u001b[0m",
      "\u001b[1;31mNameError\u001b[0m: name 'df' is not defined"
     ]
    }
   ],
   "source": [
    "def predict_price_in_2030(df, neighborhood, size):\n",
    "  # Calculate the price per meter for each year (2000- until today)\n",
    "    years = range(2000, 2020)\n",
    "    price_per_meter_by_year = {}\n",
    "    for year in years:\n",
    "        year_data = df[(df[\"NEIGHBORHOOD\"] == neighborhood) & (df['DATE'] == year)]\n",
    "        if year_data.shape[0] > 10:\n",
    "            average_price_per_meter = year_data['DEALAMOUNT'].sum() / year_data['ASSETMETER'].sum()\n",
    "            price_per_meter_by_year[year] = round(average_price_per_meter)\n",
    "            \n",
    "    return price_per_meter_by_year\n",
    "    \n",
    "t = predict_price_in_2030(df,n,45)\n"
   ]
  },
  {
   "cell_type": "code",
   "execution_count": 6,
   "id": "844bba6b",
   "metadata": {},
   "outputs": [
    {
     "ename": "NameError",
     "evalue": "name 'df' is not defined",
     "output_type": "error",
     "traceback": [
      "\u001b[1;31m---------------------------------------------------------------------------\u001b[0m",
      "\u001b[1;31mNameError\u001b[0m                                 Traceback (most recent call last)",
      "\u001b[1;32m<ipython-input-6-e21aad3217f5>\u001b[0m in \u001b[0;36m<module>\u001b[1;34m\u001b[0m\n\u001b[0;32m     20\u001b[0m     \u001b[0mplt\u001b[0m\u001b[1;33m.\u001b[0m\u001b[0mshow\u001b[0m\u001b[1;33m(\u001b[0m\u001b[1;33m)\u001b[0m\u001b[1;33m\u001b[0m\u001b[1;33m\u001b[0m\u001b[0m\n\u001b[0;32m     21\u001b[0m \u001b[1;33m\u001b[0m\u001b[0m\n\u001b[1;32m---> 22\u001b[1;33m \u001b[0mshow_map\u001b[0m\u001b[1;33m(\u001b[0m\u001b[0mdf\u001b[0m\u001b[1;33m,\u001b[0m \u001b[0myad2_df\u001b[0m\u001b[1;33m)\u001b[0m\u001b[1;33m\u001b[0m\u001b[1;33m\u001b[0m\u001b[0m\n\u001b[0m",
      "\u001b[1;31mNameError\u001b[0m: name 'df' is not defined"
     ]
    }
   ],
   "source": [
    "def show_map(df1, df2):\n",
    "    # create a list of points \n",
    "    points_list1 = [Point(xy) for xy in zip(df1.long, df1.lat)]\n",
    "    points_list2 = [Point(xy) for xy in zip(df2.long, df2.lat)]\n",
    "\n",
    "    # create a geopandas df\n",
    "    gdf1 = geopandas.GeoDataFrame(df1, geometry=points_list1)\n",
    "    gdf2 = geopandas.GeoDataFrame(df2, geometry=points_list2)\n",
    "\n",
    "    # plot the first set of points on the map with red color\n",
    "    ax = gdf1.plot(figsize=(12, 12), marker='o', color='red', markersize=15, label='History deals')\n",
    "\n",
    "\n",
    "    # plot the second set of points on the map with blue color\n",
    "    gdf2.plot(ax=ax, marker='o', color='blue', markersize=15, label='New deals')\n",
    "\n",
    "    ax.set_title('Real-Estate deals locations -TLV')\n",
    "    ax.legend()\n",
    "\n",
    "    plt.show()\n",
    "    \n",
    "show_map(df, yad2_df)\n"
   ]
  }
 ],
 "metadata": {
  "kernelspec": {
   "display_name": "Python 3",
   "language": "python",
   "name": "python3"
  },
  "language_info": {
   "codemirror_mode": {
    "name": "ipython",
    "version": 3
   },
   "file_extension": ".py",
   "mimetype": "text/x-python",
   "name": "python",
   "nbconvert_exporter": "python",
   "pygments_lexer": "ipython3",
   "version": "3.8.8"
  }
 },
 "nbformat": 4,
 "nbformat_minor": 5
}
