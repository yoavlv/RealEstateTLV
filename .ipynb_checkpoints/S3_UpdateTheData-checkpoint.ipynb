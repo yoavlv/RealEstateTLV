{
 "cells": [
  {
   "cell_type": "code",
   "execution_count": 10,
   "id": "0bf451c7",
   "metadata": {},
   "outputs": [],
   "source": [
    "import pandas as pd\n",
    "import requests\n",
    "import bs4\n",
    "from bs4 import BeautifulSoup  \n",
    "import json\n",
    "import csv\n",
    "import numpy as np\n",
    "import matplotlib.pyplot as plt      \n",
    "from datetime import datetime\n",
    "from datetime import timedelta\n",
    "import math\n",
    "import re\n"
   ]
  },
  {
   "cell_type": "code",
   "execution_count": 11,
   "id": "d0fa20b6",
   "metadata": {},
   "outputs": [],
   "source": [
    "df = pd.read_csv(\"Data/Real_Estate_TLV_Step_2.csv\",index_col=0)"
   ]
  },
  {
   "cell_type": "code",
   "execution_count": 12,
   "id": "90667ab1",
   "metadata": {},
   "outputs": [],
   "source": [
    "def distance_from_the_see_TLV(X_coordinate, Y_coordinate):\n",
    "    north_x = 180471\n",
    "    north_y = 672391\n",
    "    south_x = 177333\n",
    "    south_y = 663016\n",
    "    \n",
    "    m = (south_y - north_y) / (south_x - north_x)   \n",
    "    b = north_y - (m * north_x)\n",
    "    \n",
    "    numerator = abs(m * X_coordinate - Y_coordinate + b)\n",
    "    denominator = math.sqrt(m**2 + 1)\n",
    "    return numerator / denominator\n",
    "\n",
    "def update_centroid(df, col_name):\n",
    "    new_col = []\n",
    "    long = []\n",
    "    lat = []\n",
    "    pattern = re.compile(r\"y': (.*?), 'x': (.*?), 'geometryT\")\n",
    "    \n",
    "    for i in range(df.shape[0]):\n",
    "        matches = re.search(pattern, df[col_name][i])\n",
    "        x_val = matches.group(2)\n",
    "        y_val = matches.group(1)\n",
    "        corr = {'X': x_val, 'Y': y_val}\n",
    "        new_col.append(corr)\n",
    "        lat.append(x_val)\n",
    "        long.append(y_val)\n",
    "\n",
    "        \n",
    "    df[\"centroid\"] = new_col\n",
    "    df['long'] = long\n",
    "    df['lat'] = lat\n",
    "    return df\n"
   ]
  },
  {
   "cell_type": "code",
   "execution_count": 13,
   "id": "8cab015e",
   "metadata": {
    "scrolled": true
   },
   "outputs": [],
   "source": [
    "def Distance_from_sea_TLV(df):\n",
    "    new_column = []\n",
    "    df.dropna(subset=['centroid'] ,inplace=True)\n",
    "    df.reset_index(drop=True,inplace =True)\n",
    "    for index in range(df.shape[0]):\n",
    "        x_val = float(df['centroid'][index][\"X\"])\n",
    "        y_val = float(df['centroid'][index][\"Y\"])\n",
    "        distance = distance_from_the_see_TLV(x_val,y_val)\n",
    "        new_column.append(distance)\n",
    "\n",
    "    df[\"Distance_From_Sea\"] = new_column\n",
    "    df['Distance_From_Sea'] = df['Distance_From_Sea'].astype(int)\n",
    "\n",
    "    return df\n"
   ]
  },
  {
   "cell_type": "code",
   "execution_count": 25,
   "id": "61f55f7c",
   "metadata": {},
   "outputs": [],
   "source": [
    "def add_price_per_meter(df):\n",
    "    price_per_meter= ((df['DEALS_DEALAMOUNT'] / df['ASSETMETER']).values)\n",
    "    price_per_meter = [int(i) for i in price_per_meter]\n",
    "    df.insert(6,'PRICE_PER_METER',price_per_meter, allow_duplicates=True)\n",
    "    return df\n"
   ]
  },
  {
   "cell_type": "code",
   "execution_count": 2,
   "id": "ef424b83",
   "metadata": {},
   "outputs": [],
   "source": [
    "df = update_centroid(df,\"centroid\")\n",
    "df = Distance_from_sea_TLV(df) \n",
    "df = add_price_per_meter(df)\n",
    "df = add_avg_salary(df)  \n",
    "df.to_csv('Data/Real_Estate_TLV_Step_3.csv') \n",
    "\n"
   ]
  }
 ],
 "metadata": {
  "kernelspec": {
   "display_name": "Python 3",
   "language": "python",
   "name": "python3"
  },
  "language_info": {
   "codemirror_mode": {
    "name": "ipython",
    "version": 3
   },
   "file_extension": ".py",
   "mimetype": "text/x-python",
   "name": "python",
   "nbconvert_exporter": "python",
   "pygments_lexer": "ipython3",
   "version": "3.8.8"
  }
 },
 "nbformat": 4,
 "nbformat_minor": 5
}
