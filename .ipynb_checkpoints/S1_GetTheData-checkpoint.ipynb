{
 "cells": [
  {
   "cell_type": "code",
   "execution_count": 3,
   "id": "f7289335",
   "metadata": {},
   "outputs": [],
   "source": [
    "import pandas as pd\n",
    "import requests\n",
    "import bs4\n",
    "import json\n",
    "import csv"
   ]
  },
  {
   "cell_type": "code",
   "execution_count": null,
   "id": "540e9e5e",
   "metadata": {},
   "outputs": [],
   "source": [
    "def get_data_gov_map():\n",
    "    '''\n",
    "    Get all the real estate deals in Tel-Aviv from GovMap - from 1998 until now.\n",
    "    50000000-50006000 include all the range of the street codes in Tel Aviv (note: part of them are empty).\n",
    "    This function gets JSON data and returns a DataFrame with all the data.\n",
    "    '''\n",
    "    url =  \"https://ags.govmap.gov.il/Identify/GetDealsByStreetCodes\"\n",
    "    xmin, ymin, xmax, ymax = 185110.8086, 669110.696799999, 185730.7648, 669715.339299999\n",
    "    street_codes = list(range(50000000, 50006000))\n",
    "    data_list = []\n",
    "    \n",
    "    for i, street_code in enumerate(street_codes):\n",
    "        payload = {\n",
    "            \"StreetCodes\": [street_code],\n",
    "            \"Extent\": {\n",
    "                \"xmin\": xmin,\n",
    "                \"ymin\": ymin,\n",
    "                \"xmax\": xmax,\n",
    "                \"ymax\": ymax\n",
    "            }\n",
    "        }\n",
    "\n",
    "        try:\n",
    "            data = requests.post(url, json=payload, timeout=10).json()\n",
    "            data_list.append(data[\"data\"])\n",
    "            print(f'index: {i}, street code: {street_code}, shape: {len(data[\"data\"])}')\n",
    "        except:\n",
    "            print(f\"Oops! StreetCodes:{street_code} isn't working\")\n",
    "\n",
    "    df = pd.concat([pd.DataFrame(data) for data in data_list], ignore_index=True)\n",
    "    return df\n",
    "    "
   ]
  },
  {
   "cell_type": "code",
   "execution_count": 1,
   "id": "6fb761a7",
   "metadata": {},
   "outputs": [],
   "source": [
    "def get_nandlan_data(url, payload, df):\n",
    "    '''\n",
    "    This function gets all real estate deals in Tel-Aviv from nadlan.gov.il - from 1998 until now.\n",
    "    '''\n",
    "    page_no = 3901\n",
    "    while page_no < 5200:\n",
    "        print(page_no)\n",
    "        try:\n",
    "            response = requests.post(url, json=payload)\n",
    "            json_data = response.json()\n",
    "            new_df = pd.DataFrame(json_data['AllResults'])\n",
    "            if new_df.shape[0] != 0:\n",
    "                df = pd.concat([df, new_df], ignore_index=True)\n",
    "        except:\n",
    "            print(f\"Error: {page_no}\")\n",
    "            time.sleep(30)\n",
    "        \n",
    "        page_no += 1\n",
    "        payload['PageNo'] = page_no\n",
    "        \n",
    "    return df\n"
   ]
  },
  {
   "cell_type": "code",
   "execution_count": 2,
   "id": "6c104e94",
   "metadata": {},
   "outputs": [
    {
     "data": {
      "text/plain": [
       "(151025, 22)"
      ]
     },
     "execution_count": 2,
     "metadata": {},
     "output_type": "execute_result"
    }
   ],
   "source": [
    "url =  \"https://www.nadlan.gov.il/Nadlan.REST/Main/GetAssestAndDeals\"\n",
    "\n",
    "payload = {\n",
    "    \"MoreAssestsType\": 0,\n",
    "    \"FillterRoomNum\": 0,\n",
    "    \"GridDisplayType\": 0,\n",
    "    \"ResultLable\": \"תל אביב -יפו\",\n",
    "    \"ResultType\": 1,\n",
    "    \"ObjectID\": \"5000\",\n",
    "    \"ObjectIDType\": \"text\",\n",
    "    \"ObjectKey\": \"UNIQ_ID\",\n",
    "    \"DescLayerID\": \"SETL_MID_POINT\",\n",
    "    \"Alert\": None,\n",
    "    \"X\": 180428.31832654,\n",
    "    \"Y\": 665726.5550939,\n",
    "    \"Gush\": \"\",\n",
    "    \"Parcel\": \"\",\n",
    "    \"showLotParcel\": False,\n",
    "    \"showLotAddress\": False,\n",
    "    \"OriginalSearchString\": \"תל אביב  יפו\",\n",
    "    \"MutipuleResults\": False,\n",
    "    \"ResultsOptions\": None,\n",
    "    \"CurrentLavel\": 2,\n",
    "    \"Navs\": [],\n",
    "    \"QueryMapParams\": {\n",
    "        \"QueryToRun\": None,\n",
    "        \"QueryObjectID\": \"5000\",\n",
    "        \"QueryObjectType\": \"number\",\n",
    "        \"QueryObjectKey\": \"SETL_CODE\",\n",
    "        \"QueryDescLayerID\": \"KSHTANN_SETL_AREA\",\n",
    "        \"SpacialWhereClause\": None\n",
    "    },\n",
    "    \"isHistorical\": False,\n",
    "    \"PageNo\": 3900,\n",
    "    \"OrderByFilled\": \"DEALDATETIME\",\n",
    "    \"OrderByDescending\": True,\n",
    "    \"Distance\": 0\n",
    "}\n",
    "# 4000 - 2009\n",
    "# 4200 - 2008\n",
    "# 4500 - 2007\n",
    "# 5000 - 2005 \n",
    "# 5100 - 2004 "
   ]
  },
  {
   "cell_type": "code",
   "execution_count": null,
   "id": "3004817b",
   "metadata": {},
   "outputs": [],
   "source": [
    "response = requests.post(url, json=payload)\n",
    "json_data = response.json()\n",
    "df = pd.DataFrame(json_data['AllResults'])\n",
    "df = get_nandlan_data(url , payload ,df )"
   ]
  },
  {
   "cell_type": "code",
   "execution_count": null,
   "id": "a943173b",
   "metadata": {},
   "outputs": [],
   "source": [
    "# Save the Data into csv files\n",
    "\n",
    "def split_and_save_df(df):\n",
    "    '''\n",
    "    This funtion use to split the dataframe og GOVMAPS beacuse of the size of the csv file\n",
    "    '''\n",
    "    middle_row = len(df) // 2\n",
    "    \n",
    "    # Split the DataFrame into two new DataFrames\n",
    "    df1 = df.iloc[:middle_row]\n",
    "    df2 = df.iloc[middle_row:]\n",
    "    \n",
    "    # Save the two DataFrames as CSV files\n",
    "    df1.to_csv(\"Data/Real_Estate_TLV_GOVMAPS_1.csv\", index=False)\n",
    "    df2.to_csv(\"Data/Real_Estate_TLV_GOVMAPS_2.csv\", index=False)\n",
    "    \n",
    "    \n",
    "\n",
    "\n",
    "gov_map_df = get_data_gov_map()\n",
    "split_and_save_df(gov_map_df)\n",
    "\n",
    "nadlan_df = get_nandlan_data(url,payload,df)\n",
    "nadlan_df.to_csv('Data/Real_Estate_TLV_NADLAN.csv')"
   ]
  }
 ],
 "metadata": {
  "kernelspec": {
   "display_name": "Python 3",
   "language": "python",
   "name": "python3"
  },
  "language_info": {
   "codemirror_mode": {
    "name": "ipython",
    "version": 3
   },
   "file_extension": ".py",
   "mimetype": "text/x-python",
   "name": "python",
   "nbconvert_exporter": "python",
   "pygments_lexer": "ipython3",
   "version": "3.8.8"
  }
 },
 "nbformat": 4,
 "nbformat_minor": 5
}
