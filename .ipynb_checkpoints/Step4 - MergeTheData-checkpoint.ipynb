{
 "cells": [
  {
   "cell_type": "code",
   "execution_count": 1,
   "id": "2452c187",
   "metadata": {},
   "outputs": [],
   "source": [
    "import pandas as pd\n",
    "import requests\n",
    "import bs4\n",
    "from bs4 import BeautifulSoup  \n",
    "import json\n",
    "import csv\n",
    "import numpy as np\n",
    "import matplotlib.pyplot as plt      \n",
    "from datetime import datetime\n",
    "from datetime import timedelta\n",
    "import math\n"
   ]
  },
  {
   "cell_type": "code",
   "execution_count": 6,
   "id": "c13a163c",
   "metadata": {
    "scrolled": true
   },
   "outputs": [],
   "source": [
    "df = pd.read_csv(\"Data/Real_Estate_TLV_NADLAN.csv\",index_col=0)\n",
    "df2 = pd.read_csv(\"Data/Real_Estate_TLV_Step_3.csv\",index_col=0)\n",
    "\n",
    "df.rename(columns={'DISPLAYADRESS':'ADDRESS'}, inplace=True)\n",
    "df2.rename(columns={'DEALDATESTRING':'DEALDATE'}, inplace=True)\n",
    "\n"
   ]
  },
  {
   "cell_type": "code",
   "execution_count": 18,
   "id": "e4105f21",
   "metadata": {},
   "outputs": [],
   "source": [
    "def drop_col_from_df(df, cols):\n",
    "    return df.drop(columns=cols, axis=1)\n",
    "\n",
    "def convert_price(df):\n",
    "    df['DEALAMOUNT'] = df['DEALAMOUNT'].str.replace(',', '').astype(int)\n",
    "    return df\n",
    "\n",
    "cols_to_drop = ['DEALNATUREDESCRIPTION',\"DEALDATETIME\",\"FULLADRESS\",\"GUSH\",\"PROJECTNAME\",\"YEARBUILT\",\"KEYVALUE\" ,'TREND_IS_NEGATIVE','TREND_FORMAT','NEWPROJECTTEXT','TYPE','POLYGON_ID']\n",
    "\n",
    "df = drop_col_from_df(df,cols_to_drop)\n",
    "df = df.dropna().reset_index(drop=True)\n",
    "df = convert_price(df)"
   ]
  },
  {
   "cell_type": "code",
   "execution_count": 19,
   "id": "5dbb2a61",
   "metadata": {},
   "outputs": [
    {
     "data": {
      "text/plain": [
       "(36080, 21)"
      ]
     },
     "execution_count": 19,
     "metadata": {},
     "output_type": "execute_result"
    }
   ],
   "source": [
    "def drop_col_from_df(df, cols):\n",
    "    return df.drop(columns=cols, axis=1)\n",
    "\n",
    "def drop_rows_by_price(df):\n",
    "    #delete all the rows that contain the value in the parameter and return new dataframe\n",
    "    return df[(df[\"DEALAMOUNT\"] >= 600000) & (df[\"DEALAMOUNT\"] <= 20000000)].reset_index(drop=True)\n",
    "\n",
    "def drop_rows_by_value_size(df):\n",
    "    #delete all the rows that contain the value in the parameter and return new dataframe\n",
    "    return df[(df[\"ASSETMETER\"] >= 30) & (df[\"ASSETMETER\"] <= 350)].reset_index(drop=True)\n",
    "\n",
    "\n",
    "drop_col = ['FLOORNO','ASSETROOMNUM','centroid','ADDRESS','STREENNAME','DEALNATURE','DEALS_DEALAMOUNT']\n",
    "\n",
    "merged_df = drop_rows_by_value_size(merged_df)\n",
    "merged_df = drop_rows_by_price(merged_df)\n",
    "merged_df = drop_col_from_df(merged_df,drop_col)\n",
    "merged_df.shape"
   ]
  },
  {
   "cell_type": "code",
   "execution_count": 20,
   "id": "9ba9ca48",
   "metadata": {},
   "outputs": [
    {
     "data": {
      "text/plain": [
       "(33797, 14)"
      ]
     },
     "execution_count": 20,
     "metadata": {},
     "output_type": "execute_result"
    }
   ],
   "source": [
    "def drop_non_numeric_cols(df):\n",
    "    cols = df.select_dtypes(include=['int64', 'float64','int32']).columns\n",
    "    cols = cols.drop('PRICE_PER_METER')\n",
    "    return df[cols].dropna()\n",
    "\n",
    "def get_year(df):\n",
    "    df['DEALDATE'] = pd.to_datetime(df['DEALDATE']).dt.year\n",
    "    df.rename(columns = {'DEALDATE':'DATE'}, inplace = True)\n",
    "    df['DATE'] = df['DATE'].astype(int)\n",
    "    return df\n",
    "\n",
    "def NEIGHBORHOOD_to_numeric(df):\n",
    "    t = df['NEIGHBORHOOD'].unique()\n",
    "    df['NEIGHBORHOOD'].replace(t.tolist(),[i for i in range(len(t))], inplace=True)\n",
    "    return df\n",
    "\n"
   ]
  },
  {
   "cell_type": "code",
   "execution_count": 21,
   "id": "f87c4d17",
   "metadata": {},
   "outputs": [],
   "source": [
    "merged_df = get_year(merged_df)\n",
    "# merged_df.to_csv('Data/Real_Estate_TLV_Full_DATA.csv') \n",
    "# merged_df = NEIGHBORHOOD_to_numeric(merged_df)\n",
    "# merged_df = drop_non_numeric_cols(merged_df)\n",
    "\n",
    "merged_df['AVG_SALARY'] = merged_df['AVG_SALARY'].astype(int)\n",
    "merged_df['BUILDINGYEAR'] = merged_df['BUILDINGYEAR'].astype(int)\n",
    "\n",
    "\n",
    "merged_df.to_csv('Data/Real_Estate_TLV_Numric_Data.csv') \n"
   ]
  }
 ],
 "metadata": {
  "kernelspec": {
   "display_name": "Python 3",
   "language": "python",
   "name": "python3"
  },
  "language_info": {
   "codemirror_mode": {
    "name": "ipython",
    "version": 3
   },
   "file_extension": ".py",
   "mimetype": "text/x-python",
   "name": "python",
   "nbconvert_exporter": "python",
   "pygments_lexer": "ipython3",
   "version": "3.8.8"
  }
 },
 "nbformat": 4,
 "nbformat_minor": 5
}
